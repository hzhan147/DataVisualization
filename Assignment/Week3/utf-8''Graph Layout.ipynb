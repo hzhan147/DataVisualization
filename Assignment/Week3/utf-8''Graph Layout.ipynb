{
 "cells": [
  {
   "cell_type": "markdown",
   "metadata": {},
   "source": [
    "# Graph Layout\n",
    "In this exercise you'll write code to automatically layout a graph given only its edges."
   ]
  },
  {
   "cell_type": "code",
   "execution_count": 1,
   "metadata": {},
   "outputs": [],
   "source": [
    "import matplotlib\n",
    "import matplotlib.pyplot as plt\n",
    "import matplotlib.lines as lines\n",
    "%matplotlib inline"
   ]
  },
  {
   "cell_type": "code",
   "execution_count": 2,
   "metadata": {},
   "outputs": [],
   "source": [
    "import numpy as np"
   ]
  },
  {
   "cell_type": "markdown",
   "metadata": {},
   "source": [
    "## Part 1: Representing and Plotting a Graph\n",
    "\n",
    "First we'll look at a simple six node graph with positions defined for each of the nodes in an x and y array."
   ]
  },
  {
   "cell_type": "code",
   "execution_count": 3,
   "metadata": {},
   "outputs": [],
   "source": [
    "x = np.array([0,0,1,0.5,1,1])"
   ]
  },
  {
   "cell_type": "code",
   "execution_count": 4,
   "metadata": {},
   "outputs": [],
   "source": [
    "y = np.array([0,1,1,0,0,0.5])"
   ]
  },
  {
   "cell_type": "code",
   "execution_count": 5,
   "metadata": {},
   "outputs": [
    {
     "name": "stdout",
     "output_type": "stream",
     "text": [
      "[0.  0.  1.  0.5 1.  1. ] [0.  1.  1.  0.  0.  0.5]\n"
     ]
    }
   ],
   "source": [
    "print(x,y)"
   ]
  },
  {
   "cell_type": "markdown",
   "metadata": {},
   "source": [
    "Then we'll define the graph as a list of eight edges. Each edge is of the form [i,j] indicates an edge between node i and node j. We don't need to explicitly define the nodes, we just assume the nodes are numbered from zero to the largest node referenced in the edge list. This is an undirected graph, so if [i,j] is in the edge list, [j,i] should not be in the edge list. We also don't assume any order, so either [i,j] or [j,i] can be used, and the edges can appear in any order in the list."
   ]
  },
  {
   "cell_type": "code",
   "execution_count": 6,
   "metadata": {},
   "outputs": [],
   "source": [
    "edges = np.array([[0,1],[0,3],[1,2],[1,4],[2,5],[3,4],[3,5],[4,5]])"
   ]
  },
  {
   "cell_type": "code",
   "execution_count": 7,
   "metadata": {},
   "outputs": [
    {
     "name": "stdout",
     "output_type": "stream",
     "text": [
      "[[0 1]\n",
      " [0 3]\n",
      " [1 2]\n",
      " [1 4]\n",
      " [2 5]\n",
      " [3 4]\n",
      " [3 5]\n",
      " [4 5]]\n"
     ]
    }
   ],
   "source": [
    "print(edges)"
   ]
  },
  {
   "cell_type": "markdown",
   "metadata": {},
   "source": [
    "The code below defines the procedure `graphplot(x,y,edges)`, which plots the graph by placing nodes at the positions using the `x` any `y` arrays for coordinates, and `edges` for the lines connecting these node positions. It does this by first plotting `x` and `y` as a scatterplot, using disks of area 500pts with a white fill and black stroke. It then annotating this scatterplot with the node indices. Once the nodes are plotted, the procedure cycles through `edges` and plots each edge `e` as a line in the scatterplot coordinate system to indicate a connection between the nodes, using the style string `'k-'` to indicate the solid lines (`-`) are black (`k`)."
   ]
  },
  {
   "cell_type": "code",
   "execution_count": 8,
   "metadata": {},
   "outputs": [],
   "source": [
    "def graphplot(x,y,edges):\n",
    "    # Display nodes as white disks with black borders with an area of 500 pts\n",
    "    plt.scatter(x,y,\n",
    "                c='white',edgecolors='black',\n",
    "                s = 500,zorder = 1)\n",
    "\n",
    "    # Label nodes by their index\n",
    "    for i in range(len(x)):\n",
    "        plt.annotate(i,[x[i],y[i]],zorder=2,ha='center',va='center')\n",
    "\n",
    "    # Display edges by plotting lines\n",
    "    for e in edges:\n",
    "        i = e[0]\n",
    "        j = e[1]\n",
    "        plt.plot([x[i],x[j]],[y[i],y[j]],'k-',zorder = 0)\n",
    "\n",
    "    plt.show()"
   ]
  },
  {
   "cell_type": "code",
   "execution_count": 9,
   "metadata": {},
   "outputs": [
    {
     "data": {
      "image/png": "[encoded data removed]",
      "text/plain": [
       "<Figure size 432x288 with 1 Axes>"
      ]
     },
     "metadata": {
      "needs_background": "light"
     },
     "output_type": "display_data"
    }
   ],
   "source": [
    "graphplot(x,y,edges)"
   ]
  },
  {
   "cell_type": "markdown",
   "metadata": {},
   "source": [
    "## Part 2: Solving a Laplacian to Layout a Planar Graph\n",
    "\n",
    "Now we can make a Laplacian matrix L for this graph. The (normalized) Laplacian matrix for a graph of n nodes is an n x n square identity matrix, with additional entries such that the entry at L[j,i] (row i, column j) is equal to -1/deg(i), where deg(i) is the degree (# of edges) of node i. Thus each row sums to zero.\n",
    "\n",
    "The Laplacian for our graph is shown below."
   ]
  },
  {
   "cell_type": "code",
   "execution_count": 10,
   "metadata": {},
   "outputs": [],
   "source": [
    "L = np.array([[1,-0.5,0,-.5,0,0],\n",
    "              [-0.333,1,-0.333,0,-0.333,0],\n",
    "              [0,-.5,1,0,0,-0.5],\n",
    "              [-0.333,0,0,1,-0.333,-0.333],\n",
    "              [0,-0.333,0,-.333,1,-0.333],\n",
    "              [0,0,-0.333,-0.333,-0.333,1]])"
   ]
  },
  {
   "cell_type": "code",
   "execution_count": 11,
   "metadata": {},
   "outputs": [
    {
     "data": {
      "text/plain": [
       "array([[ 1.   , -0.5  ,  0.   , -0.5  ,  0.   ,  0.   ],\n",
       "       [-0.333,  1.   , -0.333,  0.   , -0.333,  0.   ],\n",
       "       [ 0.   , -0.5  ,  1.   ,  0.   ,  0.   , -0.5  ],\n",
       "       [-0.333,  0.   ,  0.   ,  1.   , -0.333, -0.333],\n",
       "       [ 0.   , -0.333,  0.   , -0.333,  1.   , -0.333],\n",
       "       [ 0.   ,  0.   , -0.333, -0.333, -0.333,  1.   ]])"
      ]
     },
     "execution_count": 11,
     "metadata": {},
     "output_type": "execute_result"
    }
   ],
   "source": [
    "L"
   ]
  },
  {
   "cell_type": "markdown",
   "metadata": {},
   "source": [
    "Look what happens when you multiple the Laplacian matrix by one of our coordinates lists. The product Lx is\n",
    "\n",
    "$$\n",
    "L x = \\left[ \\begin{array}{cccccc}\n",
    "1 & -1/2 & 0 & -1/2 & 0 & 0 \\\\\n",
    "-1/3 & 1 & -1/3 & 0 & -1/3 & 0 \\\\\n",
    "0 & -1/2 & 1 & 0 & 0 & -1/2 \\\\\n",
    "-1/3 & 0 & 0 & 1 & -1/3 & -1/3 \\\\\n",
    "0 & -1/3 & 0 & -1/3 & 1 & -1/3 \\\\\n",
    "0 & 0 & -1/3 & -1/3 & -1/3 & 1\n",
    "\\end{array} \\right] \\left[ \\begin{array}{c}\n",
    "x_0 \\\\ x_1 \\\\ x_2 \\\\ x_3 \\\\ x_4 \\\\ x_5\n",
    "\\end{array} \\right] = \n",
    "\\left[ \\begin{array}{l}\n",
    "x_0 - \\frac{1}{2}(x_1 + x_3) \\\\\n",
    "x_1 - \\frac{1}{3}(x_0 + x_2 + x_4) \\\\\n",
    "x_2 - \\frac{1}{2}(x_1 + x_5) \\\\\n",
    "x_3 - \\frac{1}{3}(x_0 + x_4 + x_5) \\\\\n",
    "x_4 - \\frac{1}{3}(x_1 + x_3 + x_5) \\\\\n",
    "x_5 - \\frac{1}{3}(x_2 + x_3 + x_4)\n",
    "\\end{array} \\right]\n",
    "$$\n",
    "\n",
    "such that the result is the original $x$ with the average of its neighboring node positions subtracted.\n",
    "\n",
    "We can use this property to reposition each node to a new position that is the average of its neighboring positions. However, this can result in all nodes sharing one single same position which would not be useful. So we need to *pin* some nodes to fixed positions, and let the rest reposition themselves to these average positions.\n",
    "\n",
    "We'll pick nodes 0, 1 and 2, and replace their rows in the Laplacian with their corresponding rows in an ordinary identity matrix."
   ]
  },
  {
   "cell_type": "code",
   "execution_count": 12,
   "metadata": {},
   "outputs": [],
   "source": [
    "L[0] = np.array([1,0,0,0,0,0])\n",
    "L[1] = np.array([0,1,0,0,0,0])\n",
    "L[2] = np.array([0,0,1,0,0,0])"
   ]
  },
  {
   "cell_type": "code",
   "execution_count": 13,
   "metadata": {},
   "outputs": [
    {
     "data": {
      "text/plain": [
       "array([[ 1.   ,  0.   ,  0.   ,  0.   ,  0.   ,  0.   ],\n",
       "       [ 0.   ,  1.   ,  0.   ,  0.   ,  0.   ,  0.   ],\n",
       "       [ 0.   ,  0.   ,  1.   ,  0.   ,  0.   ,  0.   ],\n",
       "       [-0.333,  0.   ,  0.   ,  1.   , -0.333, -0.333],\n",
       "       [ 0.   , -0.333,  0.   , -0.333,  1.   , -0.333],\n",
       "       [ 0.   ,  0.   , -0.333, -0.333, -0.333,  1.   ]])"
      ]
     },
     "execution_count": 13,
     "metadata": {},
     "output_type": "execute_result"
    }
   ],
   "source": [
    "L"
   ]
  },
  {
   "cell_type": "markdown",
   "metadata": {},
   "source": [
    "We'll find new position arrays x and y by solving a linear system using this modified Laplacian L. These linear systems will be of the form Lx = b and Ly = c. In order to solve for x and y, we have to define b and c as follows."
   ]
  },
  {
   "cell_type": "code",
   "execution_count": 14,
   "metadata": {},
   "outputs": [],
   "source": [
    "b = np.array([0,0,1,0,0,0])"
   ]
  },
  {
   "cell_type": "code",
   "execution_count": 15,
   "metadata": {},
   "outputs": [],
   "source": [
    "c = np.array([0,1,1,0,0,0])"
   ]
  },
  {
   "cell_type": "markdown",
   "metadata": {},
   "source": [
    "Now Lx = b looks like this:\n",
    "    \n",
    "$$\n",
    "L x = \\left[ \\begin{array}{cccccc}\n",
    "1 & 0 & 0 & 0 & 0 & 0 \\\\\n",
    "0 & 1 & 0 & 0 & 0 & 0 \\\\\n",
    "0 & 0 & 1 & 0 & 0 & 0 \\\\\n",
    "-1/3 & 0 & 0 & 1 & -1/3 & -1/3 \\\\\n",
    "0 & -1/3 & 0 & -1/3 & 1 & -1/3 \\\\\n",
    "0 & 0 & -1/3 & -1/3 & -1/3 & 1\n",
    "\\end{array} \\right] \\left[ \\begin{array}{c}\n",
    "x_0 \\\\ x_1 \\\\ x_2 \\\\ x_3 \\\\ x_4 \\\\ x_5\n",
    "\\end{array} \\right] = \n",
    "\\left[ \\begin{array}{l}\n",
    "0 \\\\ 0 \\\\ 1 \\\\ 0 \\\\ 0 \\\\ 0\n",
    "\\end{array} \\right]\n",
    "$$\n",
    "\n",
    "which is essentially the system of equations\n",
    "\n",
    "$$\n",
    "\\begin{array}{l}\n",
    "x_0 = 0 \\\\\n",
    "x_1 = 0 \\\\\n",
    "x_2 = 1 \\\\\n",
    "x_3 = \\frac{1}{3}(x_0 + x_4 + x_5) \\\\\n",
    "x_4 = \\frac{1}{3}(x_1 + x_3 + x_5) \\\\\n",
    "x_4 = \\frac{1}{3}(x_2 + x_3 + x_4)\n",
    "\\end{array}\n",
    "$$\n",
    "\n",
    "and similarly for Ly = c.\n",
    "\n",
    "Thus nodes 0, 1 and 2 are repositioned to fixed positions, and nodes 3, 4 and 5 are moved to positions that are the averages of their neighboring positions."
   ]
  },
  {
   "cell_type": "code",
   "execution_count": 16,
   "metadata": {},
   "outputs": [],
   "source": [
    "x = np.linalg.solve(L,b)"
   ]
  },
  {
   "cell_type": "code",
   "execution_count": 17,
   "metadata": {},
   "outputs": [
    {
     "name": "stdout",
     "output_type": "stream",
     "text": [
      "[0.         0.         1.         0.24906451 0.24906451 0.49887696]\n"
     ]
    }
   ],
   "source": [
    "print(x)"
   ]
  },
  {
   "cell_type": "code",
   "execution_count": 18,
   "metadata": {},
   "outputs": [],
   "source": [
    "y = np.linalg.solve(L,c)"
   ]
  },
  {
   "cell_type": "code",
   "execution_count": 19,
   "metadata": {},
   "outputs": [
    {
     "name": "stdout",
     "output_type": "stream",
     "text": [
      "[0.         1.         1.         0.49812902 0.74794148 0.74794148]\n"
     ]
    }
   ],
   "source": [
    "print(y)"
   ]
  },
  {
   "cell_type": "code",
   "execution_count": 20,
   "metadata": {},
   "outputs": [
    {
     "data": {
      "image/png": "[encoded data removed]",
      "text/plain": [
       "<Figure size 432x288 with 1 Axes>"
      ]
     },
     "metadata": {
      "needs_background": "light"
     },
     "output_type": "display_data"
    }
   ],
   "source": [
    "graphplot(x,y,edges)"
   ]
  },
  {
   "cell_type": "markdown",
   "metadata": {},
   "source": [
    "## Part 3: Writing Code\n",
    "Now let's write some code. First let's create a new graph to work with."
   ]
  },
  {
   "cell_type": "code",
   "execution_count": 21,
   "metadata": {},
   "outputs": [],
   "source": [
    "x = np.array([0,0,1,1,0.5,1])\n",
    "y = np.array([0,1,1,0,1,0.5])"
   ]
  },
  {
   "cell_type": "code",
   "execution_count": 22,
   "metadata": {},
   "outputs": [],
   "source": [
    "edges = np.array([[0,1],[0,2],[0,3],[0,4],[0,5],[1,3],[1,4],[2,4],[2,5],[3,4]])"
   ]
  },
  {
   "cell_type": "code",
   "execution_count": 23,
   "metadata": {},
   "outputs": [
    {
     "data": {
      "image/png": "[encoded data removed]",
      "text/plain": [
       "<Figure size 432x288 with 1 Axes>"
      ]
     },
     "metadata": {
      "needs_background": "light"
     },
     "output_type": "display_data"
    }
   ],
   "source": [
    "graphplot(x,y,edges)"
   ]
  },
  {
   "cell_type": "markdown",
   "metadata": {},
   "source": [
    "When we create a Laplacian, we'll need to know the degree of each node. Below create a function `deg(i,edges)` that returns the degree of the node with index `i` of the graph described by `edges` which is a list of edges, with each edge denoted by a pair of node indices. Each edge appears only once, and each edge connects one node to a different node."
   ]
  },
  {
   "cell_type": "code",
   "execution_count": 24,
   "metadata": {
    "deletable": false,
    "nbgrader": {
     "cell_type": "code",
     "checksum": "99b93ce3ce6864cfcd8103cf6eb4895a",
     "grade": false,
     "grade_id": "cell-d7a98ca5187a18b5",
     "locked": false,
     "schema_version": 3,
     "solution": true,
     "task": false
    }
   },
   "outputs": [],
   "source": [
    "def deg(i,edges):\n",
    "    filtered_list = [ elem for elem in edges if (elem[0] == i or elem[1] == i)]\n",
    "    return len(filtered_list)"
   ]
  },
  {
   "cell_type": "code",
   "execution_count": 25,
   "metadata": {
    "deletable": false,
    "editable": false,
    "nbgrader": {
     "cell_type": "code",
     "checksum": "6f4f67746916226963521229afd0b7f1",
     "grade": true,
     "grade_id": "cell-c1b36cfaed27dc68",
     "locked": true,
     "points": 2,
     "schema_version": 3,
     "solution": false,
     "task": false
    }
   },
   "outputs": [],
   "source": [
    "assert(deg(0,edges) == 5)\n",
    "assert(deg(1,edges) == 3)\n",
    "assert(deg(2,edges) == 3)\n",
    "assert(deg(3,edges) == 3)\n",
    "assert(deg(4,edges) == 4)\n",
    "assert(deg(5,edges) == 2)"
   ]
  },
  {
   "cell_type": "code",
   "execution_count": 26,
   "metadata": {},
   "outputs": [
    {
     "data": {
      "text/plain": [
       "array([[0, 1],\n",
       "       [0, 2],\n",
       "       [0, 3],\n",
       "       [0, 4],\n",
       "       [0, 5],\n",
       "       [1, 3],\n",
       "       [1, 4],\n",
       "       [2, 4],\n",
       "       [2, 5],\n",
       "       [3, 4]])"
      ]
     },
     "execution_count": 26,
     "metadata": {},
     "output_type": "execute_result"
    }
   ],
   "source": [
    "edges"
   ]
  },
  {
   "cell_type": "markdown",
   "metadata": {},
   "source": [
    "Now we can write a function `lap(edges)` to compute the Laplacian matrix of the graph specified by `edges`. We can assume the graph is connected and there are no isolated edges, so all of the node indices appear at least once in the edge list and there are no indices missing between zero and the highest node index."
   ]
  },
  {
   "cell_type": "code",
   "execution_count": 27,
   "metadata": {
    "deletable": false,
    "nbgrader": {
     "cell_type": "code",
     "checksum": "9e5872cf4d788aca7d9c52bc95345dc5",
     "grade": false,
     "grade_id": "cell-4f0b924900ab2718",
     "locked": false,
     "schema_version": 3,
     "solution": true,
     "task": false
    }
   },
   "outputs": [],
   "source": [
    "def lap(edges):\n",
    "    L = np.identity(len(np.unique(edges, return_counts=True)[0]),dtype=float)\n",
    "    for i in range(len(np.unique(edges, return_counts=True)[0])):\n",
    "        degree = deg(i,edges)\n",
    "        for edge in [ elem for elem in edges if (elem[0] == i)]:\n",
    "            L[i][edge[1]] = -1/degree\n",
    "        for edge in [ elem for elem in edges if (elem[1] == i)]:\n",
    "            L[i][edge[0]] = -1/degree\n",
    "    return L"
   ]
  },
  {
   "cell_type": "code",
   "execution_count": 28,
   "metadata": {},
   "outputs": [],
   "source": [
    "L = lap(edges)"
   ]
  },
  {
   "cell_type": "code",
   "execution_count": 29,
   "metadata": {},
   "outputs": [
    {
     "data": {
      "text/plain": [
       "array([[ 1.        , -0.2       , -0.2       , -0.2       , -0.2       ,\n",
       "        -0.2       ],\n",
       "       [-0.33333333,  1.        ,  0.        , -0.33333333, -0.33333333,\n",
       "         0.        ],\n",
       "       [-0.33333333,  0.        ,  1.        ,  0.        , -0.33333333,\n",
       "        -0.33333333],\n",
       "       [-0.33333333, -0.33333333,  0.        ,  1.        , -0.33333333,\n",
       "         0.        ],\n",
       "       [-0.25      , -0.25      , -0.25      , -0.25      ,  1.        ,\n",
       "         0.        ],\n",
       "       [-0.5       ,  0.        , -0.5       ,  0.        ,  0.        ,\n",
       "         1.        ]])"
      ]
     },
     "execution_count": 29,
     "metadata": {},
     "output_type": "execute_result"
    }
   ],
   "source": [
    "L"
   ]
  },
  {
   "cell_type": "code",
   "execution_count": 30,
   "metadata": {
    "deletable": false,
    "editable": false,
    "nbgrader": {
     "cell_type": "code",
     "checksum": "f1494faac48ed1f3e4f5aad9a11c8cda",
     "grade": true,
     "grade_id": "cell-e5c699460b62d581",
     "locked": true,
     "points": 2,
     "schema_version": 3,
     "solution": false,
     "task": false
    }
   },
   "outputs": [],
   "source": [
    "assert(all(np.round(L[0],3) == np.array([1,-.2,-.2,-.2,-.2,-.2])))\n",
    "assert(all(np.round(L[1],3) == np.array([-0.333,1,0,-0.333,-.333,0])))\n",
    "assert(all(np.round(L[2],3) == np.array([-0.333,0,1,0,-0.333,-.333])))\n",
    "assert(all(np.round(L[3],3) == np.array([-0.333,-0.333,0,1,-.333,0])))\n",
    "assert(all(np.round(L[4],3) == np.array([-0.25,-0.25,-0.25,-0.25,1,0])))\n",
    "assert(all(np.round(L[5],3) == np.array([-0.5,0,-0.5,0,0,1])))"
   ]
  },
  {
   "cell_type": "markdown",
   "metadata": {},
   "source": [
    "## Part 4: Layout the Graph\n",
    "Now you can use your Laplacian matrix to layout the graph so it is planar and doesn't have any edge crossings so it is easier to visualize.\n",
    "\n",
    "Pin nodes 0, 1 and 2 to the positions we used for them above, specifically (0,0), (0,1) and (1,1), and solve the Laplacian systems to find the coordinates of nodes 3, 4 and 5."
   ]
  },
  {
   "cell_type": "code",
   "execution_count": 31,
   "metadata": {
    "deletable": false,
    "nbgrader": {
     "cell_type": "code",
     "checksum": "a1be3e0ed5022b5f016d2fc0f5113dc8",
     "grade": false,
     "grade_id": "cell-f56e1f609066f438",
     "locked": false,
     "schema_version": 3,
     "solution": true,
     "task": false
    }
   },
   "outputs": [],
   "source": [
    "L[0] = np.array([1,0,0,0,0,0])\n",
    "L[1] = np.array([0,1,0,0,0,0])\n",
    "L[2] = np.array([0,0,1,0,0,0])\n",
    "b = np.array([0,0,1,0,0,0])\n",
    "c = np.array([0,1,1,0,0,0])\n",
    "x = np.linalg.solve(L,b)\n",
    "y = np.linalg.solve(L,c)"
   ]
  },
  {
   "cell_type": "code",
   "execution_count": 32,
   "metadata": {
    "deletable": false,
    "editable": false,
    "nbgrader": {
     "cell_type": "code",
     "checksum": "9de63477a6f59991eebc01bd2531758c",
     "grade": true,
     "grade_id": "cell-afb3d17c69a99c0d",
     "locked": true,
     "points": 1,
     "schema_version": 3,
     "solution": false,
     "task": false
    }
   },
   "outputs": [],
   "source": [
    "assert(all(np.round(L[0],3) == np.array([1,0,0,0,0,0])))\n",
    "assert(all(np.round(L[4],3) == np.array([-.25,-.25,-.25,-.25,1,0])))\n",
    "assert(np.round(x[3],3) == 0.091)\n",
    "assert(np.round(y[4],3) == 0.636)"
   ]
  },
  {
   "cell_type": "code",
   "execution_count": 33,
   "metadata": {},
   "outputs": [
    {
     "data": {
      "image/png": "[encoded data removed]",
      "text/plain": [
       "<Figure size 432x288 with 1 Axes>"
      ]
     },
     "metadata": {
      "needs_background": "light"
     },
     "output_type": "display_data"
    }
   ],
   "source": [
    "graphplot(x,y,edges)"
   ]
  }
 ],
 "metadata": {
  "kernelspec": {
   "display_name": "Python 3",
   "language": "python",
   "name": "python3"
  },
  "language_info": {
   "codemirror_mode": {
    "name": "ipython",
    "version": 3
   },
   "file_extension": ".py",
   "mimetype": "text/x-python",
   "name": "python",
   "nbconvert_exporter": "python",
   "pygments_lexer": "ipython3",
   "version": "3.7.6"
  }
 },
 "nbformat": 4,
 "nbformat_minor": 2
}
